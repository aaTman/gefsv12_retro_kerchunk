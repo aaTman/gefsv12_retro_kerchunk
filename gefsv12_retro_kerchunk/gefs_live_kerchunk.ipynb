{
 "cells": [
  {
   "cell_type": "code",
   "execution_count": null,
   "metadata": {},
   "outputs": [],
   "source": [
    "import json\n",
    "import glob\n",
    "import fsspec\n",
    "import datetime\n",
    "import pandas as pd\n",
    "import pytz\n",
    "import io\n",
    "import ujson\n",
    "import asyncio\n",
    "import nest_asyncio\n",
    "import numpy as np\n",
    "import re\n",
    "from kerchunk.combine import MultiZarrToZarr\n",
    "import xarray as xr\n",
    "import base64\n",
    "from kerchunk.grib2 import parse_grib_idx, build_idx_grib_mapping, map_from_index, grib_tree, scan_grib\n",
    "from dask.distributed import LocalCluster, Client, performance_report\n",
    "import dask\n",
    "from dask import delayed\n",
    "import dask.bag as db\n",
    "from pathlib import Path\n",
    "import datatree\n",
    "import s3fs\n",
    "from gefsv12_retro_kerchunk.kerchunk_zarr import RetrospectivePull\n",
    "from gefsv12_retro_kerchunk import utils as ut\n",
    "import matplotlib.pyplot as plt\n",
    "import seaborn as sns\n",
    "sns.set_theme(style='whitegrid',font_scale=1.3)"
   ]
  },
  {
   "cell_type": "code",
   "execution_count": null,
   "metadata": {},
   "outputs": [],
   "source": [
    "client = ut.start_dask_cluster(\n",
    "    n_workers=4, threads_per_worker=2, memory_limit=\"6GiB\"\n",
    ")\n",
    "client"
   ]
  },
  {
   "cell_type": "code",
   "execution_count": null,
   "metadata": {},
   "outputs": [],
   "source": [
    "basename = 's3://noaa-gefs-pds/gefs.20241029/00/atmos/pgrb2sp25/gespr.t00z.pgrb2s.0p25.f006'"
   ]
  },
  {
   "cell_type": "code",
   "execution_count": null,
   "metadata": {},
   "outputs": [],
   "source": [
    "fs_read = fsspec.filesystem('s3', anon=True, skip_instance_cache=True)\n",
    "fs_local = fsspec.filesystem('', skip_instance_cache = True, use_listings_cache=False)"
   ]
  },
  {
   "cell_type": "code",
   "execution_count": null,
   "metadata": {},
   "outputs": [],
   "source": [
    "so = {\"anon\": True, \"skip_instance_cache\": True}\n",
    "json_dir = 'X:/code/espr/assets/'\n",
    "\n",
    "def gen_json(file_url):\n",
    "    out = scan_grib(file_url, storage_options=so)   #create the reference using scan_grib\n",
    "    for i, message in enumerate(out):\n",
    "        key_ = [n for n in message['refs'].keys() if '0.0' in n]\n",
    "        print(key_[0].split('/')[0]) # scan_grib outputs a list containing one reference per grib message\n",
    "        if 'prmsl' in key_[0]:\n",
    "            with fs_local.open(f\"{json_dir}gefs_rt_representative.json\", \"w\") as f: \n",
    "                f.write(ujson.dumps(message)) #write to file"
   ]
  },
  {
   "cell_type": "code",
   "execution_count": null,
   "metadata": {},
   "outputs": [],
   "source": [
    "gen_json(basename)"
   ]
  },
  {
   "cell_type": "code",
   "execution_count": null,
   "metadata": {},
   "outputs": [],
   "source": [
    "reference_jsons = fs_local.ls(json_dir) #get list of file names"
   ]
  },
  {
   "cell_type": "code",
   "execution_count": null,
   "metadata": {},
   "outputs": [],
   "source": [
    "#combine individual references into single consolidated reference\n",
    "mzz = MultiZarrToZarr([reference_jsons[0]],\n",
    "                        concat_dims = ['valid_time'],\n",
    "                        identical_dims=['latitude', 'longitude', 'step'])"
   ]
  },
  {
   "cell_type": "code",
   "execution_count": null,
   "metadata": {},
   "outputs": [],
   "source": [
    "mzz"
   ]
  },
  {
   "cell_type": "code",
   "execution_count": null,
   "metadata": {},
   "outputs": [],
   "source": [
    "d = mzz.translate()"
   ]
  },
  {
   "cell_type": "code",
   "execution_count": null,
   "metadata": {},
   "outputs": [],
   "source": [
    "#open dataset as zarr object using fsspec reference file system and xarray\n",
    "fs = fsspec.filesystem(\"reference\", fo=d, remote_protocol='s3', remote_options={'anon':True})\n",
    "m = fs.get_mapper(\"\")\n",
    "ds_one = xr.open_dataset(m, engine=\"zarr\", backend_kwargs=dict(consolidated=False), \n",
    "                      chunks={'valid_time':1})"
   ]
  },
  {
   "cell_type": "code",
   "execution_count": null,
   "metadata": {},
   "outputs": [],
   "source": [
    "ds_one"
   ]
  },
  {
   "cell_type": "code",
   "execution_count": null,
   "metadata": {},
   "outputs": [],
   "source": [
    "fig, ax = plt.subplots(figsize=(10,10))\n",
    "ds_one['prmsl'].plot.hist(bins=list(np.arange(0,500,10)),ax=ax)\n",
    "plt.show()"
   ]
  },
  {
   "cell_type": "code",
   "execution_count": null,
   "metadata": {},
   "outputs": [],
   "source": [
    "retro = RetrospectivePull(fhour=6)\n",
    "retro.generate_json_files()\n",
    "ds = retro.generate_kerchunk(ds=True)"
   ]
  },
  {
   "cell_type": "code",
   "execution_count": null,
   "metadata": {},
   "outputs": [],
   "source": [
    "glob.glob(retro.directory+'/*')"
   ]
  },
  {
   "cell_type": "code",
   "execution_count": null,
   "metadata": {},
   "outputs": [],
   "source": [
    "ds"
   ]
  },
  {
   "cell_type": "code",
   "execution_count": null,
   "metadata": {},
   "outputs": [],
   "source": [
    "fig, ax = plt.subplots(figsize=(10,10))\n",
    "ds['msl'].std(dim='member').plot(bins=list(np.arange(0,500,10)),ax=ax)\n",
    "plt.show()"
   ]
  },
  {
   "cell_type": "code",
   "execution_count": null,
   "metadata": {},
   "outputs": [],
   "source": [
    "from scipy.stats import ks_2samp\n",
    "\n",
    "statistic, p_value = ks_2samp(ds_one['prmsl'].values.flatten(), ds['msl'].std(dim='member').values.flatten())"
   ]
  },
  {
   "cell_type": "code",
   "execution_count": null,
   "metadata": {},
   "outputs": [],
   "source": [
    "statistic, p_value"
   ]
  },
  {
   "cell_type": "code",
   "execution_count": null,
   "metadata": {},
   "outputs": [],
   "source": []
  }
 ],
 "metadata": {
  "kernelspec": {
   "display_name": "espr",
   "language": "python",
   "name": "python3"
  },
  "language_info": {
   "codemirror_mode": {
    "name": "ipython",
    "version": 3
   },
   "file_extension": ".py",
   "mimetype": "text/x-python",
   "name": "python",
   "nbconvert_exporter": "python",
   "pygments_lexer": "ipython3",
   "version": "3.11.10"
  }
 },
 "nbformat": 4,
 "nbformat_minor": 2
}
